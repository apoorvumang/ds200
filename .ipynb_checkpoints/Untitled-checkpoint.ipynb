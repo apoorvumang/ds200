{
 "cells": [
  {
   "cell_type": "code",
   "execution_count": 1,
   "metadata": {},
   "outputs": [],
   "source": [
    "import matplotlib.pyplot as plt\n",
    "import numpy as np\n",
    "\n",
    "%matplotlib inline"
   ]
  },
  {
   "cell_type": "code",
   "execution_count": 2,
   "metadata": {},
   "outputs": [],
   "source": [
    "#import necessary modules\n",
    "import csv\n",
    "        \n",
    "reader = csv.DictReader(open(\"data/sex_ratio.csv\"))\n",
    "data = []\n",
    "for raw in reader:\n",
    "    data.append(raw)\n",
    "\n"
   ]
  },
  {
   "cell_type": "code",
   "execution_count": 3,
   "metadata": {},
   "outputs": [],
   "source": [
    "for i, d in enumerate(data):\n",
    "    data[i]['sex_ratio'] = int(d['sex_ratio'])\n",
    "    data[i]['goal'] = int(d['goal'])"
   ]
  },
  {
   "cell_type": "code",
   "execution_count": 4,
   "metadata": {},
   "outputs": [],
   "source": [
    "def scoring_func(x):\n",
    "    return x['sex_ratio']\n",
    "\n",
    "sorted_data = sorted(data, key = scoring_func) "
   ]
  },
  {
   "cell_type": "code",
   "execution_count": 5,
   "metadata": {},
   "outputs": [],
   "source": [
    "worst_10 = sorted_data[:10]\n",
    "states = []\n",
    "sex_ratios = []\n",
    "for w in worst_10:\n",
    "    states.append(w['State'])\n",
    "    sex_ratios.append(w['sex_ratio'])"
   ]
  },
  {
   "cell_type": "code",
   "execution_count": 8,
   "metadata": {},
   "outputs": [
    {
     "data": {
      "image/png": "[encoded data removed]",
      "text/plain": [
       "<Figure size 432x288 with 1 Axes>"
      ]
     },
     "metadata": {
      "needs_background": "light"
     },
     "output_type": "display_data"
    }
   ],
   "source": [
    "\n",
    "x = np.arange(len(states))\n",
    "money = sex_ratios\n",
    "\n",
    "\n",
    "fig, ax = plt.subplots()\n",
    "ax.set_ylim([700, 1000])\n",
    "\n",
    "plt.title('sdf')\n",
    "plt.bar(x, money)\n",
    "plt.xticks(x, states)\n",
    "plt.show()\n"
   ]
  },
  {
   "cell_type": "code",
   "execution_count": 30,
   "metadata": {},
   "outputs": [
    {
     "data": {
      "text/plain": [
       "{'whiskers': [<matplotlib.lines.Line2D at 0x1103d10d0>,\n",
       "  <matplotlib.lines.Line2D at 0x1103d1650>],\n",
       " 'caps': [<matplotlib.lines.Line2D at 0x1103d1b50>,\n",
       "  <matplotlib.lines.Line2D at 0x11034e250>],\n",
       " 'boxes': [<matplotlib.lines.Line2D at 0x110359490>],\n",
       " 'medians': [<matplotlib.lines.Line2D at 0x1103d95d0>],\n",
       " 'fliers': [<matplotlib.lines.Line2D at 0x1103d9ad0>],\n",
       " 'means': []}"
      ]
     },
     "execution_count": 30,
     "metadata": {},
     "output_type": "execute_result"
    },
    {
     "data": {
      "image/png": "[encoded data removed]",
      "text/plain": [
       "<Figure size 432x288 with 1 Axes>"
      ]
     },
     "metadata": {
      "needs_background": "light"
     },
     "output_type": "display_data"
    }
   ],
   "source": [
    "fig1, ax1 = plt.subplots()\n",
    "ax1.set_title('Basic Plot')\n",
    "ax1.boxplot([1,2,3,4,5, 20, 30, 100])\n",
    "# ax1.boxplot([1,2,3,4,5, 20, 30, 100])\n"
   ]
  },
  {
   "cell_type": "code",
   "execution_count": 48,
   "metadata": {},
   "outputs": [
    {
     "data": {
      "image/png": "[encoded data removed]",
      "text/plain": [
       "<Figure size 432x288 with 1 Axes>"
      ]
     },
     "metadata": {
      "needs_background": "light"
     },
     "output_type": "display_data"
    }
   ],
   "source": [
    "import json\n",
    "from collections import defaultdict\n",
    "f = open('data/literacy.json', 'r')\n",
    "data = f.read()\n",
    "x = json.loads(data)\n",
    "keys = ['1981', '1991', '2001', '2011']\n",
    "data = defaultdict(list)\n",
    "for t in x['data']:\n",
    "    for id in range(-(len(keys)), 0):\n",
    "        k = keys[id]\n",
    "        if t[id] != 'NA':\n",
    "            d = float(t[id])\n",
    "        data[k].append(d)\n",
    "        \n",
    "box_plot_data=[]\n",
    "labels = []\n",
    "for key, value in data.items():\n",
    "    box_plot_data.append(value)\n",
    "    labels.append(key)\n",
    "plt.boxplot(box_plot_data,patch_artist=True,labels=labels)\n",
    "plt.title('Literacy rate spread across states in India')\n",
    "plt.show()"
   ]
  },
  {
   "cell_type": "code",
   "execution_count": 26,
   "metadata": {},
   "outputs": [
    {
     "data": {
      "text/plain": [
       "defaultdict(list,\n",
       "            {'1991': ['73.02',\n",
       "              '44.08',\n",
       "              '41.59',\n",
       "              '52.89',\n",
       "              '37.49',\n",
       "              '77.81',\n",
       "              '42.91',\n",
       "              '40.71',\n",
       "              '71.2',\n",
       "              '75.29',\n",
       "              '75.51',\n",
       "              '61.29',\n",
       "              '55.85',\n",
       "              '63.86',\n",
       "              'NA',\n",
       "              '41.39',\n",
       "              '56.04',\n",
       "              '89.81',\n",
       "              '81.78',\n",
       "              '44.67',\n",
       "              '64.87',\n",
       "              '59.89',\n",
       "              '49.1',\n",
       "              '82.26',\n",
       "              '61.65',\n",
       "              '49.09',\n",
       "              '74.74',\n",
       "              '58.51',\n",
       "              '38.55',\n",
       "              '56.94',\n",
       "              '62.66',\n",
       "              '60.44',\n",
       "              '40.71',\n",
       "              '57.75'],\n",
       "             '2001': ['81.3',\n",
       "              '60.47',\n",
       "              '54.34',\n",
       "              '63.25',\n",
       "              '47',\n",
       "              '81.94',\n",
       "              '64.66',\n",
       "              '57.63',\n",
       "              '78.18',\n",
       "              '81.67',\n",
       "              '82.01',\n",
       "              '69.14',\n",
       "              '67.91',\n",
       "              '76.48',\n",
       "              '55.52',\n",
       "              '53.56',\n",
       "              '66.64',\n",
       "              '90.86',\n",
       "              '86.66',\n",
       "              '63.74',\n",
       "              '76.88',\n",
       "              '70.53',\n",
       "              '62.56',\n",
       "              '88.8',\n",
       "              '66.59',\n",
       "              '63.08',\n",
       "              '81.24',\n",
       "              '69.65',\n",
       "              '60.41',\n",
       "              '68.81',\n",
       "              '73.45',\n",
       "              '73.19',\n",
       "              '56.27',\n",
       "              '71.62'],\n",
       "             '2011': ['86.6',\n",
       "              '67',\n",
       "              '65.4',\n",
       "              '72.2',\n",
       "              '61.8',\n",
       "              '86',\n",
       "              '70.3',\n",
       "              '76.2',\n",
       "              '87.1',\n",
       "              '86.2',\n",
       "              '88.7',\n",
       "              '78',\n",
       "              '75.6',\n",
       "              '82.8',\n",
       "              '67.2',\n",
       "              '66.4',\n",
       "              '75.4',\n",
       "              '94',\n",
       "              '91.8',\n",
       "              '69.3',\n",
       "              '82.3',\n",
       "              '76.9',\n",
       "              '74.4',\n",
       "              '91.3',\n",
       "              '79.6',\n",
       "              '72.9',\n",
       "              '85.8',\n",
       "              '75.8',\n",
       "              '66.1',\n",
       "              '81.4',\n",
       "              '80.1',\n",
       "              '87.2',\n",
       "              '67.7',\n",
       "              '78.8']})"
      ]
     },
     "execution_count": 26,
     "metadata": {},
     "output_type": "execute_result"
    }
   ],
   "source": [
    "data"
   ]
  },
  {
   "cell_type": "code",
   "execution_count": 15,
   "metadata": {},
   "outputs": [
    {
     "name": "stdout",
     "output_type": "stream",
     "text": [
      "fields\n",
      "data\n"
     ]
    }
   ],
   "source": [
    "for k in x.keys():\n",
    "    print(k)"
   ]
  },
  {
   "cell_type": "code",
   "execution_count": null,
   "metadata": {},
   "outputs": [],
   "source": []
  },
  {
   "cell_type": "code",
   "execution_count": null,
   "metadata": {},
   "outputs": [],
   "source": []
  }
 ],
 "metadata": {
  "kernelspec": {
   "display_name": "Python 3",
   "language": "python",
   "name": "python3"
  },
  "language_info": {
   "codemirror_mode": {
    "name": "ipython",
    "version": 3
   },
   "file_extension": ".py",
   "mimetype": "text/x-python",
   "name": "python",
   "nbconvert_exporter": "python",
   "pygments_lexer": "ipython3",
   "version": "3.7.4"
  }
 },
 "nbformat": 4,
 "nbformat_minor": 2
}
